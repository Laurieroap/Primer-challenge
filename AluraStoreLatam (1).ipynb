{
  "nbformat": 4,
  "nbformat_minor": 0,
  "metadata": {
    "colab": {
      "provenance": []
    },
    "kernelspec": {
      "name": "python3",
      "display_name": "Python 3"
    },
    "language_info": {
      "name": "python"
    }
  },
  "cells": [
    {
      "cell_type": "markdown",
      "source": [
        "### Importación de datos\n",
        "\n"
      ],
      "metadata": {
        "id": "RhEdWd9YUR6H"
      }
    },
    {
      "cell_type": "code",
      "execution_count": null,
      "metadata": {
        "colab": {
          "base_uri": "https://localhost:8080/",
          "height": 206
        },
        "id": "T3EvaeQ_INIL",
        "outputId": "52320ddc-2d22-4c75-cdb7-755911519c53"
      },
      "outputs": [
        {
          "output_type": "execute_result",
          "data": {
            "text/plain": [
              "            Producto Categoría del Producto    Precio  Costo de envío  \\\n",
              "0  Asistente virtual           Electrónicos  164300.0          6900.0   \n",
              "1    Mesa de comedor                Muebles  192300.0          8400.0   \n",
              "2      Juego de mesa               Juguetes  209600.0         15900.0   \n",
              "3         Microondas      Electrodomésticos  757500.0         41000.0   \n",
              "4   Silla de oficina                Muebles  335200.0         20200.0   \n",
              "\n",
              "  Fecha de Compra         Vendedor Lugar de Compra  Calificación  \\\n",
              "0      16/01/2021      Pedro Gomez          Bogotá             4   \n",
              "1      18/05/2022  Beatriz Morales        Medellín             1   \n",
              "2      15/03/2021   Juan Fernandez       Cartagena             1   \n",
              "3      03/05/2022   Juan Fernandez            Cali             4   \n",
              "4      07/11/2020    Maria Alfonso        Medellín             5   \n",
              "\n",
              "       Método de pago  Cantidad de cuotas       lat       lon  \n",
              "0  Tarjeta de crédito                   8   4.60971 -74.08175  \n",
              "1  Tarjeta de crédito                   4   6.25184 -75.56359  \n",
              "2  Tarjeta de crédito                   1  10.39972 -75.51444  \n",
              "3               Nequi                   1   3.43722 -76.52250  \n",
              "4               Nequi                   1   6.25184 -75.56359  "
            ],
            "text/html": [
              "\n",
              "  <div id=\"df-b65b7b6f-d433-40bc-b20d-7fbd20c68cb9\" class=\"colab-df-container\">\n",
              "    <div>\n",
              "<style scoped>\n",
              "    .dataframe tbody tr th:only-of-type {\n",
              "        vertical-align: middle;\n",
              "    }\n",
              "\n",
              "    .dataframe tbody tr th {\n",
              "        vertical-align: top;\n",
              "    }\n",
              "\n",
              "    .dataframe thead th {\n",
              "        text-align: right;\n",
              "    }\n",
              "</style>\n",
              "<table border=\"1\" class=\"dataframe\">\n",
              "  <thead>\n",
              "    <tr style=\"text-align: right;\">\n",
              "      <th></th>\n",
              "      <th>Producto</th>\n",
              "      <th>Categoría del Producto</th>\n",
              "      <th>Precio</th>\n",
              "      <th>Costo de envío</th>\n",
              "      <th>Fecha de Compra</th>\n",
              "      <th>Vendedor</th>\n",
              "      <th>Lugar de Compra</th>\n",
              "      <th>Calificación</th>\n",
              "      <th>Método de pago</th>\n",
              "      <th>Cantidad de cuotas</th>\n",
              "      <th>lat</th>\n",
              "      <th>lon</th>\n",
              "    </tr>\n",
              "  </thead>\n",
              "  <tbody>\n",
              "    <tr>\n",
              "      <th>0</th>\n",
              "      <td>Asistente virtual</td>\n",
              "      <td>Electrónicos</td>\n",
              "      <td>164300.0</td>\n",
              "      <td>6900.0</td>\n",
              "      <td>16/01/2021</td>\n",
              "      <td>Pedro Gomez</td>\n",
              "      <td>Bogotá</td>\n",
              "      <td>4</td>\n",
              "      <td>Tarjeta de crédito</td>\n",
              "      <td>8</td>\n",
              "      <td>4.60971</td>\n",
              "      <td>-74.08175</td>\n",
              "    </tr>\n",
              "    <tr>\n",
              "      <th>1</th>\n",
              "      <td>Mesa de comedor</td>\n",
              "      <td>Muebles</td>\n",
              "      <td>192300.0</td>\n",
              "      <td>8400.0</td>\n",
              "      <td>18/05/2022</td>\n",
              "      <td>Beatriz Morales</td>\n",
              "      <td>Medellín</td>\n",
              "      <td>1</td>\n",
              "      <td>Tarjeta de crédito</td>\n",
              "      <td>4</td>\n",
              "      <td>6.25184</td>\n",
              "      <td>-75.56359</td>\n",
              "    </tr>\n",
              "    <tr>\n",
              "      <th>2</th>\n",
              "      <td>Juego de mesa</td>\n",
              "      <td>Juguetes</td>\n",
              "      <td>209600.0</td>\n",
              "      <td>15900.0</td>\n",
              "      <td>15/03/2021</td>\n",
              "      <td>Juan Fernandez</td>\n",
              "      <td>Cartagena</td>\n",
              "      <td>1</td>\n",
              "      <td>Tarjeta de crédito</td>\n",
              "      <td>1</td>\n",
              "      <td>10.39972</td>\n",
              "      <td>-75.51444</td>\n",
              "    </tr>\n",
              "    <tr>\n",
              "      <th>3</th>\n",
              "      <td>Microondas</td>\n",
              "      <td>Electrodomésticos</td>\n",
              "      <td>757500.0</td>\n",
              "      <td>41000.0</td>\n",
              "      <td>03/05/2022</td>\n",
              "      <td>Juan Fernandez</td>\n",
              "      <td>Cali</td>\n",
              "      <td>4</td>\n",
              "      <td>Nequi</td>\n",
              "      <td>1</td>\n",
              "      <td>3.43722</td>\n",
              "      <td>-76.52250</td>\n",
              "    </tr>\n",
              "    <tr>\n",
              "      <th>4</th>\n",
              "      <td>Silla de oficina</td>\n",
              "      <td>Muebles</td>\n",
              "      <td>335200.0</td>\n",
              "      <td>20200.0</td>\n",
              "      <td>07/11/2020</td>\n",
              "      <td>Maria Alfonso</td>\n",
              "      <td>Medellín</td>\n",
              "      <td>5</td>\n",
              "      <td>Nequi</td>\n",
              "      <td>1</td>\n",
              "      <td>6.25184</td>\n",
              "      <td>-75.56359</td>\n",
              "    </tr>\n",
              "  </tbody>\n",
              "</table>\n",
              "</div>\n",
              "    <div class=\"colab-df-buttons\">\n",
              "\n",
              "  <div class=\"colab-df-container\">\n",
              "    <button class=\"colab-df-convert\" onclick=\"convertToInteractive('df-b65b7b6f-d433-40bc-b20d-7fbd20c68cb9')\"\n",
              "            title=\"Convert this dataframe to an interactive table.\"\n",
              "            style=\"display:none;\">\n",
              "\n",
              "  <svg xmlns=\"http://www.w3.org/2000/svg\" height=\"24px\" viewBox=\"0 -960 960 960\">\n",
              "    <path d=\"M120-120v-720h720v720H120Zm60-500h600v-160H180v160Zm220 220h160v-160H400v160Zm0 220h160v-160H400v160ZM180-400h160v-160H180v160Zm440 0h160v-160H620v160ZM180-180h160v-160H180v160Zm440 0h160v-160H620v160Z\"/>\n",
              "  </svg>\n",
              "    </button>\n",
              "\n",
              "  <style>\n",
              "    .colab-df-container {\n",
              "      display:flex;\n",
              "      gap: 12px;\n",
              "    }\n",
              "\n",
              "    .colab-df-convert {\n",
              "      background-color: #E8F0FE;\n",
              "      border: none;\n",
              "      border-radius: 50%;\n",
              "      cursor: pointer;\n",
              "      display: none;\n",
              "      fill: #1967D2;\n",
              "      height: 32px;\n",
              "      padding: 0 0 0 0;\n",
              "      width: 32px;\n",
              "    }\n",
              "\n",
              "    .colab-df-convert:hover {\n",
              "      background-color: #E2EBFA;\n",
              "      box-shadow: 0px 1px 2px rgba(60, 64, 67, 0.3), 0px 1px 3px 1px rgba(60, 64, 67, 0.15);\n",
              "      fill: #174EA6;\n",
              "    }\n",
              "\n",
              "    .colab-df-buttons div {\n",
              "      margin-bottom: 4px;\n",
              "    }\n",
              "\n",
              "    [theme=dark] .colab-df-convert {\n",
              "      background-color: #3B4455;\n",
              "      fill: #D2E3FC;\n",
              "    }\n",
              "\n",
              "    [theme=dark] .colab-df-convert:hover {\n",
              "      background-color: #434B5C;\n",
              "      box-shadow: 0px 1px 3px 1px rgba(0, 0, 0, 0.15);\n",
              "      filter: drop-shadow(0px 1px 2px rgba(0, 0, 0, 0.3));\n",
              "      fill: #FFFFFF;\n",
              "    }\n",
              "  </style>\n",
              "\n",
              "    <script>\n",
              "      const buttonEl =\n",
              "        document.querySelector('#df-b65b7b6f-d433-40bc-b20d-7fbd20c68cb9 button.colab-df-convert');\n",
              "      buttonEl.style.display =\n",
              "        google.colab.kernel.accessAllowed ? 'block' : 'none';\n",
              "\n",
              "      async function convertToInteractive(key) {\n",
              "        const element = document.querySelector('#df-b65b7b6f-d433-40bc-b20d-7fbd20c68cb9');\n",
              "        const dataTable =\n",
              "          await google.colab.kernel.invokeFunction('convertToInteractive',\n",
              "                                                    [key], {});\n",
              "        if (!dataTable) return;\n",
              "\n",
              "        const docLinkHtml = 'Like what you see? Visit the ' +\n",
              "          '<a target=\"_blank\" href=https://colab.research.google.com/notebooks/data_table.ipynb>data table notebook</a>'\n",
              "          + ' to learn more about interactive tables.';\n",
              "        element.innerHTML = '';\n",
              "        dataTable['output_type'] = 'display_data';\n",
              "        await google.colab.output.renderOutput(dataTable, element);\n",
              "        const docLink = document.createElement('div');\n",
              "        docLink.innerHTML = docLinkHtml;\n",
              "        element.appendChild(docLink);\n",
              "      }\n",
              "    </script>\n",
              "  </div>\n",
              "\n",
              "\n",
              "<div id=\"df-497c609a-569a-42b3-8d41-2793b4a719ea\">\n",
              "  <button class=\"colab-df-quickchart\" onclick=\"quickchart('df-497c609a-569a-42b3-8d41-2793b4a719ea')\"\n",
              "            title=\"Suggest charts\"\n",
              "            style=\"display:none;\">\n",
              "\n",
              "<svg xmlns=\"http://www.w3.org/2000/svg\" height=\"24px\"viewBox=\"0 0 24 24\"\n",
              "     width=\"24px\">\n",
              "    <g>\n",
              "        <path d=\"M19 3H5c-1.1 0-2 .9-2 2v14c0 1.1.9 2 2 2h14c1.1 0 2-.9 2-2V5c0-1.1-.9-2-2-2zM9 17H7v-7h2v7zm4 0h-2V7h2v10zm4 0h-2v-4h2v4z\"/>\n",
              "    </g>\n",
              "</svg>\n",
              "  </button>\n",
              "\n",
              "<style>\n",
              "  .colab-df-quickchart {\n",
              "      --bg-color: #E8F0FE;\n",
              "      --fill-color: #1967D2;\n",
              "      --hover-bg-color: #E2EBFA;\n",
              "      --hover-fill-color: #174EA6;\n",
              "      --disabled-fill-color: #AAA;\n",
              "      --disabled-bg-color: #DDD;\n",
              "  }\n",
              "\n",
              "  [theme=dark] .colab-df-quickchart {\n",
              "      --bg-color: #3B4455;\n",
              "      --fill-color: #D2E3FC;\n",
              "      --hover-bg-color: #434B5C;\n",
              "      --hover-fill-color: #FFFFFF;\n",
              "      --disabled-bg-color: #3B4455;\n",
              "      --disabled-fill-color: #666;\n",
              "  }\n",
              "\n",
              "  .colab-df-quickchart {\n",
              "    background-color: var(--bg-color);\n",
              "    border: none;\n",
              "    border-radius: 50%;\n",
              "    cursor: pointer;\n",
              "    display: none;\n",
              "    fill: var(--fill-color);\n",
              "    height: 32px;\n",
              "    padding: 0;\n",
              "    width: 32px;\n",
              "  }\n",
              "\n",
              "  .colab-df-quickchart:hover {\n",
              "    background-color: var(--hover-bg-color);\n",
              "    box-shadow: 0 1px 2px rgba(60, 64, 67, 0.3), 0 1px 3px 1px rgba(60, 64, 67, 0.15);\n",
              "    fill: var(--button-hover-fill-color);\n",
              "  }\n",
              "\n",
              "  .colab-df-quickchart-complete:disabled,\n",
              "  .colab-df-quickchart-complete:disabled:hover {\n",
              "    background-color: var(--disabled-bg-color);\n",
              "    fill: var(--disabled-fill-color);\n",
              "    box-shadow: none;\n",
              "  }\n",
              "\n",
              "  .colab-df-spinner {\n",
              "    border: 2px solid var(--fill-color);\n",
              "    border-color: transparent;\n",
              "    border-bottom-color: var(--fill-color);\n",
              "    animation:\n",
              "      spin 1s steps(1) infinite;\n",
              "  }\n",
              "\n",
              "  @keyframes spin {\n",
              "    0% {\n",
              "      border-color: transparent;\n",
              "      border-bottom-color: var(--fill-color);\n",
              "      border-left-color: var(--fill-color);\n",
              "    }\n",
              "    20% {\n",
              "      border-color: transparent;\n",
              "      border-left-color: var(--fill-color);\n",
              "      border-top-color: var(--fill-color);\n",
              "    }\n",
              "    30% {\n",
              "      border-color: transparent;\n",
              "      border-left-color: var(--fill-color);\n",
              "      border-top-color: var(--fill-color);\n",
              "      border-right-color: var(--fill-color);\n",
              "    }\n",
              "    40% {\n",
              "      border-color: transparent;\n",
              "      border-right-color: var(--fill-color);\n",
              "      border-top-color: var(--fill-color);\n",
              "    }\n",
              "    60% {\n",
              "      border-color: transparent;\n",
              "      border-right-color: var(--fill-color);\n",
              "    }\n",
              "    80% {\n",
              "      border-color: transparent;\n",
              "      border-right-color: var(--fill-color);\n",
              "      border-bottom-color: var(--fill-color);\n",
              "    }\n",
              "    90% {\n",
              "      border-color: transparent;\n",
              "      border-bottom-color: var(--fill-color);\n",
              "    }\n",
              "  }\n",
              "</style>\n",
              "\n",
              "  <script>\n",
              "    async function quickchart(key) {\n",
              "      const quickchartButtonEl =\n",
              "        document.querySelector('#' + key + ' button');\n",
              "      quickchartButtonEl.disabled = true;  // To prevent multiple clicks.\n",
              "      quickchartButtonEl.classList.add('colab-df-spinner');\n",
              "      try {\n",
              "        const charts = await google.colab.kernel.invokeFunction(\n",
              "            'suggestCharts', [key], {});\n",
              "      } catch (error) {\n",
              "        console.error('Error during call to suggestCharts:', error);\n",
              "      }\n",
              "      quickchartButtonEl.classList.remove('colab-df-spinner');\n",
              "      quickchartButtonEl.classList.add('colab-df-quickchart-complete');\n",
              "    }\n",
              "    (() => {\n",
              "      let quickchartButtonEl =\n",
              "        document.querySelector('#df-497c609a-569a-42b3-8d41-2793b4a719ea button');\n",
              "      quickchartButtonEl.style.display =\n",
              "        google.colab.kernel.accessAllowed ? 'block' : 'none';\n",
              "    })();\n",
              "  </script>\n",
              "</div>\n",
              "\n",
              "    </div>\n",
              "  </div>\n"
            ],
            "application/vnd.google.colaboratory.intrinsic+json": {
              "type": "dataframe",
              "variable_name": "tienda",
              "summary": "{\n  \"name\": \"tienda\",\n  \"rows\": 2359,\n  \"fields\": [\n    {\n      \"column\": \"Producto\",\n      \"properties\": {\n        \"dtype\": \"category\",\n        \"num_unique_values\": 51,\n        \"samples\": [\n          \"Guitarra ac\\u00fastica\",\n          \"Bal\\u00f3n de baloncesto\",\n          \"Smartwatch\"\n        ],\n        \"semantic_type\": \"\",\n        \"description\": \"\"\n      }\n    },\n    {\n      \"column\": \"Categor\\u00eda del Producto\",\n      \"properties\": {\n        \"dtype\": \"category\",\n        \"num_unique_values\": 8,\n        \"samples\": [\n          \"Muebles\",\n          \"Deportes y diversi\\u00f3n\",\n          \"Electr\\u00f3nicos\"\n        ],\n        \"semantic_type\": \"\",\n        \"description\": \"\"\n      }\n    },\n    {\n      \"column\": \"Precio\",\n      \"properties\": {\n        \"dtype\": \"number\",\n        \"std\": 614686.7653873172,\n        \"min\": 7600.0,\n        \"max\": 2977000.0,\n        \"num_unique_values\": 1937,\n        \"samples\": [\n          2499400.0,\n          14800.0,\n          80500.0\n        ],\n        \"semantic_type\": \"\",\n        \"description\": \"\"\n      }\n    },\n    {\n      \"column\": \"Costo de env\\u00edo\",\n      \"properties\": {\n        \"dtype\": \"number\",\n        \"std\": 32860.0017825605,\n        \"min\": 0.0,\n        \"max\": 160800.0,\n        \"num_unique_values\": 753,\n        \"samples\": [\n          117800.0,\n          54700.0,\n          45600.0\n        ],\n        \"semantic_type\": \"\",\n        \"description\": \"\"\n      }\n    },\n    {\n      \"column\": \"Fecha de Compra\",\n      \"properties\": {\n        \"dtype\": \"object\",\n        \"num_unique_values\": 1018,\n        \"samples\": [\n          \"15/09/2022\",\n          \"03/06/2020\",\n          \"06/11/2021\"\n        ],\n        \"semantic_type\": \"\",\n        \"description\": \"\"\n      }\n    },\n    {\n      \"column\": \"Vendedor\",\n      \"properties\": {\n        \"dtype\": \"category\",\n        \"num_unique_values\": 14,\n        \"samples\": [\n          \"Juliana Costa\",\n          \"Mariana Herrera\",\n          \"Pedro Gomez\"\n        ],\n        \"semantic_type\": \"\",\n        \"description\": \"\"\n      }\n    },\n    {\n      \"column\": \"Lugar de Compra\",\n      \"properties\": {\n        \"dtype\": \"category\",\n        \"num_unique_values\": 19,\n        \"samples\": [\n          \"Bogot\\u00e1\",\n          \"Pereira\",\n          \"Neiva\"\n        ],\n        \"semantic_type\": \"\",\n        \"description\": \"\"\n      }\n    },\n    {\n      \"column\": \"Calificaci\\u00f3n\",\n      \"properties\": {\n        \"dtype\": \"number\",\n        \"std\": 1,\n        \"min\": 1,\n        \"max\": 5,\n        \"num_unique_values\": 5,\n        \"samples\": [\n          1,\n          2,\n          5\n        ],\n        \"semantic_type\": \"\",\n        \"description\": \"\"\n      }\n    },\n    {\n      \"column\": \"M\\u00e9todo de pago\",\n      \"properties\": {\n        \"dtype\": \"category\",\n        \"num_unique_values\": 4,\n        \"samples\": [\n          \"Nequi\",\n          \"Tarjeta de d\\u00e9bito\",\n          \"Tarjeta de cr\\u00e9dito\"\n        ],\n        \"semantic_type\": \"\",\n        \"description\": \"\"\n      }\n    },\n    {\n      \"column\": \"Cantidad de cuotas\",\n      \"properties\": {\n        \"dtype\": \"number\",\n        \"std\": 2,\n        \"min\": 1,\n        \"max\": 24,\n        \"num_unique_values\": 15,\n        \"samples\": [\n          7,\n          14,\n          8\n        ],\n        \"semantic_type\": \"\",\n        \"description\": \"\"\n      }\n    },\n    {\n      \"column\": \"lat\",\n      \"properties\": {\n        \"dtype\": \"number\",\n        \"std\": 2.2874452492678627,\n        \"min\": -4.21528,\n        \"max\": 11.54444,\n        \"num_unique_values\": 19,\n        \"samples\": [\n          4.60971,\n          4.81333,\n          2.9273\n        ],\n        \"semantic_type\": \"\",\n        \"description\": \"\"\n      }\n    },\n    {\n      \"column\": \"lon\",\n      \"properties\": {\n        \"dtype\": \"number\",\n        \"std\": 1.2178272727088486,\n        \"min\": -77.28111,\n        \"max\": -67.9239,\n        \"num_unique_values\": 19,\n        \"samples\": [\n          -74.08175,\n          -75.69611,\n          -75.28189\n        ],\n        \"semantic_type\": \"\",\n        \"description\": \"\"\n      }\n    }\n  ]\n}"
            }
          },
          "metadata": {},
          "execution_count": 10
        }
      ],
      "source": [
        "import pandas as pd\n",
        "\n",
        "url = \"https://raw.githubusercontent.com/alura-es-cursos/challenge1-data-science-latam/refs/heads/main/base-de-datos-challenge1-latam/tienda_1%20.csv\"\n",
        "url2 = \"https://raw.githubusercontent.com/alura-es-cursos/challenge1-data-science-latam/refs/heads/main/base-de-datos-challenge1-latam/tienda_2.csv\"\n",
        "url3 = \"https://raw.githubusercontent.com/alura-es-cursos/challenge1-data-science-latam/refs/heads/main/base-de-datos-challenge1-latam/tienda_3.csv\"\n",
        "url4 = \"https://raw.githubusercontent.com/alura-es-cursos/challenge1-data-science-latam/refs/heads/main/base-de-datos-challenge1-latam/tienda_4.csv\"\n",
        "\n",
        "tienda = pd.read_csv(url)\n",
        "tienda2 = pd.read_csv(url2)\n",
        "tienda3 = pd.read_csv(url3)\n",
        "tienda4 = pd.read_csv(url4)\n",
        "\n",
        "tienda.head()"
      ]
    },
    {
      "cell_type": "code",
      "source": [
        "print(tienda.head())"
      ],
      "metadata": {
        "colab": {
          "base_uri": "https://localhost:8080/"
        },
        "id": "WDKlVzIMNFkp",
        "outputId": "5b30fb5d-3ab5-4abc-8ae4-c29bb6493f10"
      },
      "execution_count": null,
      "outputs": [
        {
          "output_type": "stream",
          "name": "stdout",
          "text": [
            "            Producto Categoría del Producto    Precio  Costo de envío  \\\n",
            "0  Asistente virtual           Electrónicos  164300.0          6900.0   \n",
            "1    Mesa de comedor                Muebles  192300.0          8400.0   \n",
            "2      Juego de mesa               Juguetes  209600.0         15900.0   \n",
            "3         Microondas      Electrodomésticos  757500.0         41000.0   \n",
            "4   Silla de oficina                Muebles  335200.0         20200.0   \n",
            "\n",
            "  Fecha de Compra         Vendedor Lugar de Compra  Calificación  \\\n",
            "0      16/01/2021      Pedro Gomez          Bogotá             4   \n",
            "1      18/05/2022  Beatriz Morales        Medellín             1   \n",
            "2      15/03/2021   Juan Fernandez       Cartagena             1   \n",
            "3      03/05/2022   Juan Fernandez            Cali             4   \n",
            "4      07/11/2020    Maria Alfonso        Medellín             5   \n",
            "\n",
            "       Método de pago  Cantidad de cuotas       lat       lon  \n",
            "0  Tarjeta de crédito                   8   4.60971 -74.08175  \n",
            "1  Tarjeta de crédito                   4   6.25184 -75.56359  \n",
            "2  Tarjeta de crédito                   1  10.39972 -75.51444  \n",
            "3               Nequi                   1   3.43722 -76.52250  \n",
            "4               Nequi                   1   6.25184 -75.56359  \n"
          ]
        }
      ]
    },
    {
      "cell_type": "code",
      "source": [
        "print(tienda2.head())"
      ],
      "metadata": {
        "colab": {
          "base_uri": "https://localhost:8080/"
        },
        "id": "Ry_M30R6NR1W",
        "outputId": "226b4c41-f2e4-42dd-a595-0822f5abc348"
      },
      "execution_count": null,
      "outputs": [
        {
          "output_type": "stream",
          "name": "stdout",
          "text": [
            "           Producto  Categoría del Producto    Precio  Costo de envío  \\\n",
            "0  Silla de oficina                 Muebles  283600.0         15300.0   \n",
            "1         Pandereta  Instrumentos musicales   76800.0          2300.0   \n",
            "2         Cama king                 Muebles  443300.0         23800.0   \n",
            "3         Cama king                 Muebles  906200.0         46400.0   \n",
            "4  Silla de oficina                 Muebles  397800.0         19400.0   \n",
            "\n",
            "  Fecha de Compra         Vendedor Lugar de Compra  Calificación  \\\n",
            "0      04/08/2021  Izabela de León        Medellín             1   \n",
            "1      26/11/2020   Blanca Ramirez        Medellín             3   \n",
            "2      22/10/2021  Izabela de León         Pereira             5   \n",
            "3      04/05/2022    Maria Alfonso            Cali             5   \n",
            "4      26/02/2022    Lucas Olivera          Bogotá             4   \n",
            "\n",
            "       Método de pago  Cantidad de cuotas      lat       lon  \n",
            "0               Nequi                   1  6.25184 -75.56359  \n",
            "1  Tarjeta de crédito                   4  6.25184 -75.56359  \n",
            "2  Tarjeta de crédito                  10  4.81333 -75.69611  \n",
            "3  Tarjeta de crédito                  10  3.43722 -76.52250  \n",
            "4  Tarjeta de crédito                   3  4.60971 -74.08175  \n"
          ]
        }
      ]
    },
    {
      "cell_type": "code",
      "source": [
        "print(tienda3.head())"
      ],
      "metadata": {
        "colab": {
          "base_uri": "https://localhost:8080/"
        },
        "id": "RWafslrgNdCG",
        "outputId": "2705fa1a-0c81-4235-931f-5fcf38b92b54"
      },
      "execution_count": null,
      "outputs": [
        {
          "output_type": "stream",
          "name": "stdout",
          "text": [
            "            Producto  Categoría del Producto     Precio  Costo de envío  \\\n",
            "0   Secadora de ropa       Electrodomésticos  1285100.0         66600.0   \n",
            "1      Mesa de noche                 Muebles   290100.0         13600.0   \n",
            "2  Guitarra acústica  Instrumentos musicales   303500.0         17400.0   \n",
            "3  Balón de voleibol    Deportes y diversión    58800.0          3300.0   \n",
            "4            Armario                 Muebles   521100.0         25900.0   \n",
            "\n",
            "  Fecha de Compra        Vendedor Lugar de Compra  Calificación  \\\n",
            "0      17/12/2021   Camila Rivera     Santa Marta             4   \n",
            "1      10/02/2021   Maria Alfonso            Cali             3   \n",
            "2      22/01/2023   Lucas Olivera          Bogotá             5   \n",
            "3      22/03/2022     Pedro Gomez    Barranquilla             4   \n",
            "4      12/01/2022  Blanca Ramirez          Bogotá             1   \n",
            "\n",
            "       Método de pago  Cantidad de cuotas       lat       lon  \n",
            "0  Tarjeta de crédito                   4  11.24079 -74.19904  \n",
            "1  Tarjeta de crédito                   1   3.43722 -76.52250  \n",
            "2  Tarjeta de crédito                   3   4.60971 -74.08175  \n",
            "3  Tarjeta de crédito                   6  10.96854 -74.78132  \n",
            "4  Tarjeta de crédito                   1   4.60971 -74.08175  \n"
          ]
        }
      ]
    },
    {
      "cell_type": "code",
      "source": [
        "print(tienda4.head())"
      ],
      "metadata": {
        "colab": {
          "base_uri": "https://localhost:8080/"
        },
        "id": "sd1lIhLjNjLu",
        "outputId": "df1dcea1-5012-4225-8a06-faa92927f554"
      },
      "execution_count": null,
      "outputs": [
        {
          "output_type": "stream",
          "name": "stdout",
          "text": [
            "              Producto Categoría del Producto     Precio  Costo de envío  \\\n",
            "0         Lavavajillas      Electrodomésticos  1084800.0         56000.0   \n",
            "1             Cama box                Muebles   473800.0         25400.0   \n",
            "2  Balón de baloncesto   Deportes y diversión    23700.0             0.0   \n",
            "3  Modelado predictivo                 Libros    57700.0          1300.0   \n",
            "4          Auriculares           Electrónicos   138900.0          5600.0   \n",
            "\n",
            "  Fecha de Compra         Vendedor Lugar de Compra  Calificación  \\\n",
            "0      11/11/2022    Rafael Acosta          Bogotá             4   \n",
            "1      03/01/2020  Izabela de León          Cúcuta             5   \n",
            "2      25/12/2022    Maria Alfonso        Medellín             5   \n",
            "3      23/11/2021    Lucas Olivera        Medellín             3   \n",
            "4      25/04/2022   Blanca Ramirez          Bogotá             4   \n",
            "\n",
            "       Método de pago  Cantidad de cuotas      lat       lon  \n",
            "0  Tarjeta de crédito                   3  4.60971 -74.08175  \n",
            "1  Tarjeta de crédito                   2  7.89391 -72.50782  \n",
            "2               Nequi                   1  6.25184 -75.56359  \n",
            "3               Nequi                   1  6.25184 -75.56359  \n",
            "4  Tarjeta de crédito                   7  4.60971 -74.08175  \n"
          ]
        }
      ]
    },
    {
      "cell_type": "code",
      "source": [
        "print(\"Columnas de la tienda 1:\")\n",
        "print(tienda.columns)"
      ],
      "metadata": {
        "colab": {
          "base_uri": "https://localhost:8080/"
        },
        "id": "TH_tuiy6P-Uv",
        "outputId": "6bd68624-fa1d-4825-9731-e78412bd7094"
      },
      "execution_count": null,
      "outputs": [
        {
          "output_type": "stream",
          "name": "stdout",
          "text": [
            "Columnas de la tienda 1:\n",
            "Index(['Producto', 'Categoría del Producto', 'Precio', 'Costo de envío',\n",
            "       'Fecha de Compra', 'Vendedor', 'Lugar de Compra', 'Calificación',\n",
            "       'Método de pago', 'Cantidad de cuotas', 'lat', 'lon'],\n",
            "      dtype='object')\n"
          ]
        }
      ]
    },
    {
      "cell_type": "code",
      "source": [
        "print(\"Columnas de la tienda 2:\")\n",
        "print(tienda2.columns)"
      ],
      "metadata": {
        "colab": {
          "base_uri": "https://localhost:8080/"
        },
        "id": "QMPVZYhdQluC",
        "outputId": "703190f7-1c01-435e-cb11-c2f11f13d5c3"
      },
      "execution_count": null,
      "outputs": [
        {
          "output_type": "stream",
          "name": "stdout",
          "text": [
            "Columnas de la tienda 2:\n",
            "Index(['Producto', 'Categoría del Producto', 'Precio', 'Costo de envío',\n",
            "       'Fecha de Compra', 'Vendedor', 'Lugar de Compra', 'Calificación',\n",
            "       'Método de pago', 'Cantidad de cuotas', 'lat', 'lon'],\n",
            "      dtype='object')\n"
          ]
        }
      ]
    },
    {
      "cell_type": "code",
      "source": [
        "print(\"Columnas de la tienda 3:\")\n",
        "print(tienda3.columns)"
      ],
      "metadata": {
        "colab": {
          "base_uri": "https://localhost:8080/"
        },
        "id": "SWFsF9j_Qsd6",
        "outputId": "a4d04ade-abfc-4b78-fb5f-1d63804e4f5f"
      },
      "execution_count": null,
      "outputs": [
        {
          "output_type": "stream",
          "name": "stdout",
          "text": [
            "Columnas de la tienda 3:\n",
            "Index(['Producto', 'Categoría del Producto', 'Precio', 'Costo de envío',\n",
            "       'Fecha de Compra', 'Vendedor', 'Lugar de Compra', 'Calificación',\n",
            "       'Método de pago', 'Cantidad de cuotas', 'lat', 'lon'],\n",
            "      dtype='object')\n"
          ]
        }
      ]
    },
    {
      "cell_type": "code",
      "source": [
        "print(\"Columnas de la tienda 4:\")\n",
        "print(tienda4.columns)"
      ],
      "metadata": {
        "colab": {
          "base_uri": "https://localhost:8080/"
        },
        "id": "wHJPHjCmQuoF",
        "outputId": "6329a481-c155-4813-f60e-1ffbbfdcad43"
      },
      "execution_count": null,
      "outputs": [
        {
          "output_type": "stream",
          "name": "stdout",
          "text": [
            "Columnas de la tienda 4:\n",
            "Index(['Producto', 'Categoría del Producto', 'Precio', 'Costo de envío',\n",
            "       'Fecha de Compra', 'Vendedor', 'Lugar de Compra', 'Calificación',\n",
            "       'Método de pago', 'Cantidad de cuotas', 'lat', 'lon'],\n",
            "      dtype='object')\n"
          ]
        }
      ]
    },
    {
      "cell_type": "code",
      "source": [
        "ingresos_tienda1 = tienda['Precio'].sum()\n",
        "print(f\"Ingresos totales de la Tienda 1: ${ingresos_tienda1:,.2f}\")"
      ],
      "metadata": {
        "colab": {
          "base_uri": "https://localhost:8080/"
        },
        "id": "9alG-FciSqI1",
        "outputId": "dde0cd19-2a9a-4ef3-8eb8-3402b7662a9d"
      },
      "execution_count": null,
      "outputs": [
        {
          "output_type": "stream",
          "name": "stdout",
          "text": [
            "Ingresos totales de la Tienda 1: $1,150,880,400.00\n"
          ]
        }
      ]
    },
    {
      "cell_type": "code",
      "source": [
        "ingresos_tienda2 = tienda2['Precio'].sum()\n",
        "print(f\"Ingresos totales de la Tienda 2: ${ingresos_tienda2:,.2f}\")"
      ],
      "metadata": {
        "colab": {
          "base_uri": "https://localhost:8080/"
        },
        "id": "MzFjgbuBSuQI",
        "outputId": "7fff373f-a9fa-40e3-eba8-ba098189b4d0"
      },
      "execution_count": null,
      "outputs": [
        {
          "output_type": "stream",
          "name": "stdout",
          "text": [
            "Ingresos totales de la Tienda 2: $1,116,343,500.00\n"
          ]
        }
      ]
    },
    {
      "cell_type": "code",
      "source": [
        "ingresos_tienda3 = tienda3['Precio'].sum()\n",
        "print(f\"Ingresos totales de la Tienda 3: ${ingresos_tienda3:,.2f}\")"
      ],
      "metadata": {
        "colab": {
          "base_uri": "https://localhost:8080/"
        },
        "id": "gsQHOiXOSvf9",
        "outputId": "5ac5c247-02e9-46f4-daca-a141e94caaf1"
      },
      "execution_count": null,
      "outputs": [
        {
          "output_type": "stream",
          "name": "stdout",
          "text": [
            "Ingresos totales de la Tienda 3: $1,098,019,600.00\n"
          ]
        }
      ]
    },
    {
      "cell_type": "code",
      "source": [
        "ingresos_tienda4 = tienda4['Precio'].sum()\n",
        "print(f\"Ingresos totales de la Tienda 4: ${ingresos_tienda4:,.2f}\")"
      ],
      "metadata": {
        "colab": {
          "base_uri": "https://localhost:8080/"
        },
        "id": "rK3eo46gSzi2",
        "outputId": "0ab27e2e-5b5d-4c0e-d342-6b471bee6e71"
      },
      "execution_count": null,
      "outputs": [
        {
          "output_type": "stream",
          "name": "stdout",
          "text": [
            "Ingresos totales de la Tienda 4: $1,038,375,700.00\n"
          ]
        }
      ]
    },
    {
      "cell_type": "code",
      "source": [
        "ventas_por_categoria_tienda1 = tienda.groupby('Categoría del Producto')['Producto'].count()\n",
        "print(\"Cantidad de productos vendidos por categoría en la Tienda 1:\\n\", ventas_por_categoria_tienda1)"
      ],
      "metadata": {
        "colab": {
          "base_uri": "https://localhost:8080/"
        },
        "id": "JkIkoGN1T8g_",
        "outputId": "d8562cb0-dca0-4d28-995b-5e13c3de19f4"
      },
      "execution_count": null,
      "outputs": [
        {
          "output_type": "stream",
          "name": "stdout",
          "text": [
            "Cantidad de productos vendidos por categoría en la Tienda 1:\n",
            " Categoría del Producto\n",
            "Artículos para el hogar    171\n",
            "Deportes y diversión       284\n",
            "Electrodomésticos          312\n",
            "Electrónicos               448\n",
            "Instrumentos musicales     182\n",
            "Juguetes                   324\n",
            "Libros                     173\n",
            "Muebles                    465\n",
            "Name: Producto, dtype: int64\n"
          ]
        }
      ]
    },
    {
      "cell_type": "code",
      "source": [
        "ventas_por_categoria_tienda2 = tienda2.groupby('Categoría del Producto')['Producto'].count()\n",
        "print(\"Cantidad de productos vendidos por categoría en la Tienda 2:\\n\", ventas_por_categoria_tienda2)"
      ],
      "metadata": {
        "colab": {
          "base_uri": "https://localhost:8080/"
        },
        "id": "QkOc5GN7UACz",
        "outputId": "903c5add-c305-4df8-d15d-5052bed9b77a"
      },
      "execution_count": null,
      "outputs": [
        {
          "output_type": "stream",
          "name": "stdout",
          "text": [
            "Cantidad de productos vendidos por categoría en la Tienda 2:\n",
            " Categoría del Producto\n",
            "Artículos para el hogar    181\n",
            "Deportes y diversión       275\n",
            "Electrodomésticos          305\n",
            "Electrónicos               422\n",
            "Instrumentos musicales     224\n",
            "Juguetes                   313\n",
            "Libros                     197\n",
            "Muebles                    442\n",
            "Name: Producto, dtype: int64\n"
          ]
        }
      ]
    },
    {
      "cell_type": "code",
      "source": [
        "ventas_por_categoria_tienda3 = tienda3.groupby('Categoría del Producto')['Producto'].count()\n",
        "print(\"Cantidad de productos vendidos por categoría en la Tienda 3:\\n\", ventas_por_categoria_tienda3)"
      ],
      "metadata": {
        "colab": {
          "base_uri": "https://localhost:8080/"
        },
        "id": "Bi0GwtOVUDUd",
        "outputId": "9d0fe33d-f138-480c-ddad-9642f27d456a"
      },
      "execution_count": null,
      "outputs": [
        {
          "output_type": "stream",
          "name": "stdout",
          "text": [
            "Cantidad de productos vendidos por categoría en la Tienda 3:\n",
            " Categoría del Producto\n",
            "Artículos para el hogar    177\n",
            "Deportes y diversión       277\n",
            "Electrodomésticos          278\n",
            "Electrónicos               451\n",
            "Instrumentos musicales     177\n",
            "Juguetes                   315\n",
            "Libros                     185\n",
            "Muebles                    499\n",
            "Name: Producto, dtype: int64\n"
          ]
        }
      ]
    },
    {
      "cell_type": "code",
      "source": [
        "ventas_por_categoria_tienda4 = tienda4.groupby('Categoría del Producto')['Producto'].count()\n",
        "print(\"Cantidad de productos vendidos por categoría en la Tienda 4:\\n\", ventas_por_categoria_tienda4)"
      ],
      "metadata": {
        "colab": {
          "base_uri": "https://localhost:8080/"
        },
        "id": "RRTagkGaUH7A",
        "outputId": "91c227f5-df5f-4a54-9d5a-1abeff883394"
      },
      "execution_count": null,
      "outputs": [
        {
          "output_type": "stream",
          "name": "stdout",
          "text": [
            "Cantidad de productos vendidos por categoría en la Tienda 4:\n",
            " Categoría del Producto\n",
            "Artículos para el hogar    201\n",
            "Deportes y diversión       277\n",
            "Electrodomésticos          254\n",
            "Electrónicos               451\n",
            "Instrumentos musicales     170\n",
            "Juguetes                   338\n",
            "Libros                     187\n",
            "Muebles                    480\n",
            "Name: Producto, dtype: int64\n"
          ]
        }
      ]
    },
    {
      "cell_type": "code",
      "source": [
        "valoracion_media_tienda1 = tienda['Calificación'].mean()\n",
        "print(f\"Valoración media de la Tienda 1: {valoracion_media_tienda1:.2f}\")"
      ],
      "metadata": {
        "colab": {
          "base_uri": "https://localhost:8080/"
        },
        "id": "SVQZIn9YUl2U",
        "outputId": "37d43a5f-3588-4903-e79a-e9a2bb348b19"
      },
      "execution_count": null,
      "outputs": [
        {
          "output_type": "stream",
          "name": "stdout",
          "text": [
            "Valoración media de la Tienda 1: 3.98\n"
          ]
        }
      ]
    },
    {
      "cell_type": "code",
      "source": [
        "valoracion_media_tienda2 = tienda2['Calificación'].mean()\n",
        "print(f\"Valoración media de la Tienda 2: {valoracion_media_tienda2:.2f}\")"
      ],
      "metadata": {
        "colab": {
          "base_uri": "https://localhost:8080/"
        },
        "id": "slhvmOUPUrQ1",
        "outputId": "008aeb46-2ca7-4237-ba6e-cfdf37f3c6b9"
      },
      "execution_count": null,
      "outputs": [
        {
          "output_type": "stream",
          "name": "stdout",
          "text": [
            "Valoración media de la Tienda 2: 4.04\n"
          ]
        }
      ]
    },
    {
      "cell_type": "code",
      "source": [
        "valoracion_media_tienda3 = tienda3['Calificación'].mean()\n",
        "print(f\"Valoración media de la Tienda 3: {valoracion_media_tienda3:.2f}\")"
      ],
      "metadata": {
        "colab": {
          "base_uri": "https://localhost:8080/"
        },
        "id": "oaynpIFAUtAd",
        "outputId": "aa2e37c3-a527-4fba-f6c1-886f4395f2a7"
      },
      "execution_count": null,
      "outputs": [
        {
          "output_type": "stream",
          "name": "stdout",
          "text": [
            "Valoración media de la Tienda 3: 4.05\n"
          ]
        }
      ]
    },
    {
      "cell_type": "code",
      "source": [
        "valoracion_media_tienda4 = tienda4['Calificación'].mean()\n",
        "print(f\"Valoración media de la Tienda 4: {valoracion_media_tienda4:.2f}\")"
      ],
      "metadata": {
        "colab": {
          "base_uri": "https://localhost:8080/"
        },
        "id": "H5Tg7HU5UvDi",
        "outputId": "d5356801-6cb7-4c90-f047-79cb703b6bd9"
      },
      "execution_count": null,
      "outputs": [
        {
          "output_type": "stream",
          "name": "stdout",
          "text": [
            "Valoración media de la Tienda 4: 4.00\n"
          ]
        }
      ]
    },
    {
      "cell_type": "code",
      "source": [
        "top_productos_tienda1 = tienda['Producto'].value_counts().head(5)\n",
        "print(\"Top 5 productos más vendidos en la Tienda 1:\\n\", top_productos_tienda1)\n",
        "\n",
        "bottom_productos_tienda1 = tienda['Producto'].value_counts().tail(5)\n",
        "print(\"\\nTop 5 productos menos vendidos en la Tienda 1:\\n\", bottom_productos_tienda1)"
      ],
      "metadata": {
        "colab": {
          "base_uri": "https://localhost:8080/"
        },
        "id": "uWEIYp8_VSrq",
        "outputId": "01bd73f3-1b33-4ca0-b47c-f17e39fea066"
      },
      "execution_count": null,
      "outputs": [
        {
          "output_type": "stream",
          "name": "stdout",
          "text": [
            "Top 5 productos más vendidos en la Tienda 1:\n",
            " Producto\n",
            "Microondas          60\n",
            "TV LED UHD 4K       60\n",
            "Armario             60\n",
            "Secadora de ropa    58\n",
            "Mesa de noche       56\n",
            "Name: count, dtype: int64\n",
            "\n",
            "Top 5 productos menos vendidos en la Tienda 1:\n",
            " Producto\n",
            "Ciencia de datos con Python    39\n",
            "Pandereta                      36\n",
            "Olla de presión                35\n",
            "Auriculares con micrófono      33\n",
            "Celular ABXY                   33\n",
            "Name: count, dtype: int64\n"
          ]
        }
      ]
    },
    {
      "cell_type": "code",
      "source": [
        "top_productos_tienda2 = tienda2['Producto'].value_counts().head(5)\n",
        "print(\"Top 5 productos más vendidos en la Tienda 2:\\n\", top_productos_tienda2)\n",
        "\n",
        "bottom_productos_tienda2 = tienda2['Producto'].value_counts().tail(5)\n",
        "print(\"\\nTop 5 productos menos vendidos en la Tienda 2:\\n\", bottom_productos_tienda2)"
      ],
      "metadata": {
        "colab": {
          "base_uri": "https://localhost:8080/"
        },
        "id": "7zE1saJSVUUd",
        "outputId": "c8fe2669-9ac9-4ac1-d0d7-c08f90a49b8f"
      },
      "execution_count": null,
      "outputs": [
        {
          "output_type": "stream",
          "name": "stdout",
          "text": [
            "Top 5 productos más vendidos en la Tienda 2:\n",
            " Producto\n",
            "Iniciando en programación    65\n",
            "Microondas                   62\n",
            "Batería                      61\n",
            "Guitarra acústica            58\n",
            "Pandereta                    58\n",
            "Name: count, dtype: int64\n",
            "\n",
            "Top 5 productos menos vendidos en la Tienda 2:\n",
            " Producto\n",
            "Auriculares        37\n",
            "Sillón             35\n",
            "Mesa de comedor    34\n",
            "Impresora          34\n",
            "Juego de mesa      32\n",
            "Name: count, dtype: int64\n"
          ]
        }
      ]
    },
    {
      "cell_type": "code",
      "source": [
        "top_productos_tienda3 = tienda3['Producto'].value_counts().head(5)\n",
        "print(\"Top 5 productos más vendidos en la Tienda 3:\\n\", top_productos_tienda3)\n",
        "\n",
        "bottom_productos_tienda3 = tienda3['Producto'].value_counts().tail(5)\n",
        "print(\"\\nTop 5 productos menos vendidos en la Tienda 3:\\n\", bottom_productos_tienda3)"
      ],
      "metadata": {
        "colab": {
          "base_uri": "https://localhost:8080/"
        },
        "id": "z88tY0nXVXCh",
        "outputId": "2d54641e-7153-4292-9734-80d73aaca2bb"
      },
      "execution_count": null,
      "outputs": [
        {
          "output_type": "stream",
          "name": "stdout",
          "text": [
            "Top 5 productos más vendidos en la Tienda 3:\n",
            " Producto\n",
            "Kit de bancas      57\n",
            "Mesa de comedor    56\n",
            "Cama king          56\n",
            "Set de ollas       55\n",
            "Mesa de noche      55\n",
            "Name: count, dtype: int64\n",
            "\n",
            "Top 5 productos menos vendidos en la Tienda 3:\n",
            " Producto\n",
            "Guitarra eléctrica         38\n",
            "Set de vasos               36\n",
            "Mochila                    36\n",
            "Microondas                 36\n",
            "Bloques de construcción    35\n",
            "Name: count, dtype: int64\n"
          ]
        }
      ]
    },
    {
      "cell_type": "code",
      "source": [
        "top_productos_tienda4 = tienda4['Producto'].value_counts().head(5)\n",
        "print(\"Top 5 productos más vendidos en la Tienda 4:\\n\", top_productos_tienda4)\n",
        "\n",
        "bottom_productos_tienda4 = tienda4['Producto'].value_counts().tail(5)\n",
        "print(\"\\nTop 5 productos menos vendidos en la Tienda 4:\\n\", bottom_productos_tienda4)"
      ],
      "metadata": {
        "colab": {
          "base_uri": "https://localhost:8080/"
        },
        "id": "fWV5JfSwVakW",
        "outputId": "6ab914da-a942-48bf-ad0f-7ac9f744698b"
      },
      "execution_count": null,
      "outputs": [
        {
          "output_type": "stream",
          "name": "stdout",
          "text": [
            "Top 5 productos más vendidos en la Tienda 4:\n",
            " Producto\n",
            "Cama box                     62\n",
            "Cubertería                   59\n",
            "Dashboards con Power BI      56\n",
            "Cama king                    56\n",
            "Carrito de control remoto    55\n",
            "Name: count, dtype: int64\n",
            "\n",
            "Top 5 productos menos vendidos en la Tienda 4:\n",
            " Producto\n",
            "Refrigerador                   38\n",
            "Ciencia de datos con Python    38\n",
            "Guitarra acústica              37\n",
            "Armario                        34\n",
            "Guitarra eléctrica             33\n",
            "Name: count, dtype: int64\n"
          ]
        }
      ]
    },
    {
      "cell_type": "code",
      "source": [
        "envio_promedio_tienda1 = tienda['Costo de envío'].mean()\n",
        "print(f\"Costo de envío promedio de la Tienda 1: ${envio_promedio_tienda1:.2f}\")"
      ],
      "metadata": {
        "colab": {
          "base_uri": "https://localhost:8080/"
        },
        "id": "EtdL0XkQhRri",
        "outputId": "310e4ef6-adca-468f-cd16-2fa20faeb7f1"
      },
      "execution_count": null,
      "outputs": [
        {
          "output_type": "stream",
          "name": "stdout",
          "text": [
            "Costo de envío promedio de la Tienda 1: $26018.61\n"
          ]
        }
      ]
    },
    {
      "cell_type": "code",
      "source": [
        "envio_promedio_tienda2 = tienda2['Costo de envío'].mean()\n",
        "print(f\"Costo de envío promedio de la Tienda 2: ${envio_promedio_tienda2:.2f}\")"
      ],
      "metadata": {
        "colab": {
          "base_uri": "https://localhost:8080/"
        },
        "id": "7e4xNLjuhY9O",
        "outputId": "2d204eae-65ac-4ec2-acb6-20c10399b07c"
      },
      "execution_count": null,
      "outputs": [
        {
          "output_type": "stream",
          "name": "stdout",
          "text": [
            "Costo de envío promedio de la Tienda 2: $25216.24\n"
          ]
        }
      ]
    },
    {
      "cell_type": "code",
      "source": [
        "envio_promedio_tienda3 = tienda3['Costo de envío'].mean()\n",
        "print(f\"Costo de envío promedio de la Tienda 3: ${envio_promedio_tienda3:.2f}\")"
      ],
      "metadata": {
        "colab": {
          "base_uri": "https://localhost:8080/"
        },
        "id": "2V2-Sq7OhcZK",
        "outputId": "33ae7c90-5cbd-4d55-8211-3d00e2a4f86e"
      },
      "execution_count": null,
      "outputs": [
        {
          "output_type": "stream",
          "name": "stdout",
          "text": [
            "Costo de envío promedio de la Tienda 3: $24805.68\n"
          ]
        }
      ]
    },
    {
      "cell_type": "code",
      "source": [
        "envio_promedio_tienda4 = tienda4['Costo de envío'].mean()\n",
        "print(f\"Costo de envío promedio de la Tienda 4: ${envio_promedio_tienda4:.2f}\")"
      ],
      "metadata": {
        "colab": {
          "base_uri": "https://localhost:8080/"
        },
        "id": "b9lbUZVmNEdq",
        "outputId": "6b5ebe4a-be8f-4e94-9ab1-b5d9f9db2555"
      },
      "execution_count": null,
      "outputs": [
        {
          "output_type": "stream",
          "name": "stdout",
          "text": [
            "Costo de envío promedio de la Tienda 4: $23459.46\n"
          ]
        }
      ]
    },
    {
      "cell_type": "code",
      "source": [
        "import matplotlib.pyplot as plt\n",
        "\n",
        "tiendas = ['Tienda 1', 'Tienda 2', 'Tienda 3', 'Tienda 4']\n",
        "ingresos = [ingresos_tienda1, ingresos_tienda2, ingresos_tienda3, ingresos_tienda4]\n",
        "\n",
        "plt.figure(figsize=(10, 6))\n",
        "plt.bar(tiendas, ingresos, color=['skyblue', 'lightcoral', 'lightgreen', 'lightsalmon'])\n",
        "plt.xlabel('Tiendas')\n",
        "plt.ylabel('Ingresos Totales (en cientos de millones)')\n",
        "plt.title('Ingresos Totales por Tienda')\n",
        "plt.ticklabel_format(style='plain', axis='y')\n",
        "plt.show()"
      ],
      "metadata": {
        "colab": {
          "base_uri": "https://localhost:8080/",
          "height": 564
        },
        "id": "Ak8KA5JroayT",
        "outputId": "55e6af0b-c885-4201-d9f3-e4351cec51b4"
      },
      "execution_count": null,
      "outputs": [
        {
          "output_type": "display_data",
          "data": {
            "text/plain": [
              "<Figure size 1000x600 with 1 Axes>"
            ],
            "image/png": "[encoded data removed]"
          },
          "metadata": {}
        }
      ]
    },
    {
      "cell_type": "code",
      "source": [
        "import matplotlib.pyplot as plt\n",
        "\n",
        "categorias_tienda1 = ventas_por_categoria_tienda1.index\n",
        "cantidad_ventas_tienda1 = ventas_por_categoria_tienda1.values\n",
        "\n",
        "plt.figure(figsize=(8, 8))\n",
        "plt.pie(cantidad_ventas_tienda1, labels=categorias_tienda1, autopct='%1.1f%%', startangle=140)\n",
        "plt.title('Distribución de Ventas por Categoría en la Tienda 1')\n",
        "plt.axis('equal')\n",
        "plt.show()"
      ],
      "metadata": {
        "colab": {
          "base_uri": "https://localhost:8080/",
          "height": 675
        },
        "id": "4jY5uGZNogTd",
        "outputId": "c1ae2e6f-f0ff-48be-82da-c7fc3d15621b"
      },
      "execution_count": null,
      "outputs": [
        {
          "output_type": "display_data",
          "data": {
            "text/plain": [
              "<Figure size 800x800 with 1 Axes>"
            ],
            "image/png": "[encoded data removed]"
          },
          "metadata": {}
        }
      ]
    },
    {
      "cell_type": "code",
      "source": [
        "import matplotlib.pyplot as plt\n",
        "\n",
        "tiendas = ['Tienda 1', 'Tienda 2', 'Tienda 3', 'Tienda 4']\n",
        "valoraciones_medias = [valoracion_media_tienda1, valoracion_media_tienda2, valoracion_media_tienda3, valoracion_media_tienda4]\n",
        "\n",
        "plt.figure(figsize=(10, 6))\n",
        "plt.barh(tiendas, valoraciones_medias, color=['skyblue', 'lightcoral', 'lightgreen', 'lightsalmon'])\n",
        "plt.xlabel('Valoración Media')\n",
        "plt.ylabel('Tiendas')\n",
        "plt.title('Valoración Media por Tienda')\n",
        "plt.xlim(3.9, 4.1)\n",
        "plt.show()"
      ],
      "metadata": {
        "colab": {
          "base_uri": "https://localhost:8080/",
          "height": 565
        },
        "id": "i6Bwl9IDol6H",
        "outputId": "14166ca7-bd44-4bd9-e4af-15a44dcff89a"
      },
      "execution_count": null,
      "outputs": [
        {
          "output_type": "display_data",
          "data": {
            "text/plain": [
              "<Figure size 1000x600 with 1 Axes>"
            ],
            "image/png": "[encoded data removed]"
          },
          "metadata": {}
        }
      ]
    },
    {
      "cell_type": "markdown",
      "source": [
        "## Informe Final: Recomendación de Venta de Tienda para\n",
        "el Sr. Juan\n",
        "\n",
        "### Introducción:\n",
        "En este informe analizaré cuál de las cuatro tiendas, sería\n",
        "la mejor opción para ser vendida por el Sr. Juan. Para tomar esta decisión\n",
        "informada, he analizado diversos factores de rendimiento de cada tienda,\n",
        "incluyendo los ingresos totales, las categorías de productos más vendidas, las\n",
        "calificaciones promedio de los clientes, los productos más y menos vendidos, y\n",
        "los costos de envío promedio.\n",
        "\n",
        "### Desarrollo:\n",
        "\n",
        "#### Ingresos Totales:\n",
        "Según nuestro análisis del gráfico 1, las tiendas\n",
        "generaron los siguientes ingresos totales:\n",
        "* Tienda 1: $1,150,880,400.00\n",
        "* Tienda 2: $1,116,343,500.00\n",
        "* Tienda 3: $1,098,019,600.00\n",
        "* Tienda 4: $1,138,848,200.00\n",
        "Se puede observar que la **Tienda 3** presenta los\n",
        "ingresos totales más bajos en comparación con las otras tiendas.\n",
        "\n",
        "#### Ventas por Categoría de productos:\n",
        "El análisis de la distribución de ventas por categoría en\n",
        "la Tienda 1 y que también lo podemos ver en el gráfico 2 muestra que las\n",
        "categorías con mayor proporción de ventas son **Muebles (19.7%)** y\n",
        "**Electrónicos (19.0%)**. Al comparar las cantidades vendidas por categoría\n",
        "entre tiendas, observamos que muebles y electrónicos se encuentran frecuentemente\n",
        "entre las más vendidas, aunque también con variaciones en el orden y la\n",
        "cantidad.\n",
        "\n",
        "#### Calificaciones Promedio de los Clientes:\n",
        "En el gráfico 3 se mostró las siguientes calificaciones\n",
        "promedio por tienda:\n",
        "* Tienda 1: 3.98\n",
        "* Tienda 2: 4.04\n",
        "* Tienda 3: 4.05\n",
        "* Tienda 4: 4.00\n",
        "Y como podemos observar, la **Tienda 1** tuvo la\n",
        "calificación promedio de clientes más baja.\n",
        "\n",
        "#### Productos Más y Menos Vendidos:\n",
        "El análisis de los productos más vendidos por tienda, que\n",
        "está plasmado en el gráfico de barras horizontales reveló:\n",
        "* Tienda 1: Microondas, TV LED UHD 4K, Armario\n",
        "* Tienda 2: Microondas, Iniciando en programación,\n",
        "Batería\n",
        "* Tienda 3: Kit de bancas, Mesa de comedor, Cama king\n",
        "* Tienda 4: Cama box, Cubetería, Dashboards con Power BI\n",
        "\n",
        "Los productos menos vendidos variaron más entre las\n",
        "tiendas, incluyendo artículos como Guitarras (eléctrica y acústica), Sets de\n",
        "vasos, Mochilas y Bloques de construcción en diferentes ubicaciones.\n",
        "\n",
        "#### Coste de Envío Promedio:\n",
        "El análisis del costo de envío promedio por tienda\n",
        "mostró:\n",
        "* Tienda 1: $26,018.61\n",
        "* Tienda 2: $25,216.24\n",
        "* Tienda 3: $24,805.68\n",
        "* Tienda 4: $23,459.46\n",
        "Y se observa que la **Tienda 1** tuvo el costo de envío\n",
        "promedio más alto.\n",
        "\n",
        "### Conclusión y Recomendación:\n",
        "Basándome en el análisis integral de los ingresos\n",
        "totales, la satisfacción del cliente que está indicada por las calificaciones\n",
        "promedio, las tendencias de ventas de productos y categorías, y los costos de\n",
        "envío promedio, se recomienda que el Sr. Juan considere la venta de la **Tienda\n",
        "1**.\n",
        "\n",
        "### Justificación:\n",
        "Si bien la Tienda 1 genera los ingresos totales más\n",
        "altos, presenta debilidades significativas en comparación con las otras tiendas,\n",
        "como la disminución en la **satisfacción** promedio **del** cliente y **los** altos costos de **envío**, **lo** que **representa** riesgos\n",
        "a largo plazo a pesar de sus altos ingresos actuales. Además, sus\n",
        "productos más vendidos no muestran una ventaja competitiva clara sobre las\n",
        "otras tiendas.\n",
        "Y a pesar que la tienda 3 tiene los ingresos totales más\n",
        "bajos, algo que destacar es la mayor satisfacción del cliente y un costo de\n",
        "envío promedio razonable, con productos más vendidos distintos que podrían\n",
        "atraer a un nicho de mercado.\n"
      ],
      "metadata": {
        "id": "DL0zGo7iQe9I"
      }
    },
    {
      "cell_type": "code",
      "source": [],
      "metadata": {
        "id": "jM2d5Q0mJ13Q"
      },
      "execution_count": null,
      "outputs": []
    },
    {
      "cell_type": "code",
      "source": [],
      "metadata": {
        "id": "l9R7NwtbP9P_"
      },
      "execution_count": null,
      "outputs": []
    },
    {
      "cell_type": "code",
      "source": [],
      "metadata": {
        "id": "LrAf_SpnJ-Mk"
      },
      "execution_count": null,
      "outputs": []
    },
    {
      "cell_type": "code",
      "source": [],
      "metadata": {
        "id": "bh3jjjJwY5MU"
      },
      "execution_count": null,
      "outputs": []
    },
    {
      "cell_type": "code",
      "source": [],
      "metadata": {
        "id": "WfPCoYv_KXU6"
      },
      "execution_count": null,
      "outputs": []
    },
    {
      "cell_type": "code",
      "source": [],
      "metadata": {
        "id": "I0KkjPoTY88F"
      },
      "execution_count": null,
      "outputs": []
    },
    {
      "cell_type": "markdown",
      "source": [
        "# 4. Productos más y menos vendidos"
      ],
      "metadata": {
        "id": "DmNp1KPBZCm-"
      }
    },
    {
      "cell_type": "code",
      "source": [],
      "metadata": {
        "id": "qoyjqijQZHfF"
      },
      "execution_count": null,
      "outputs": []
    },
    {
      "cell_type": "code",
      "source": [],
      "metadata": {
        "id": "0Sw3sd4IZIGW"
      },
      "execution_count": null,
      "outputs": []
    },
    {
      "cell_type": "markdown",
      "source": [
        "# 5. Envío promedio por tienda"
      ],
      "metadata": {
        "id": "Fl0cGi3bZKqU"
      }
    },
    {
      "cell_type": "code",
      "source": [],
      "metadata": {
        "id": "S2JeaCykZNy9"
      },
      "execution_count": null,
      "outputs": []
    },
    {
      "cell_type": "code",
      "source": [],
      "metadata": {
        "id": "0tSdCie9ZQlt"
      },
      "execution_count": null,
      "outputs": []
    }
  ]
}